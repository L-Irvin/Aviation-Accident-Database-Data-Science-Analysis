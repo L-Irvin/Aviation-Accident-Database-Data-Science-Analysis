{
 "cells": [
  {
   "cell_type": "markdown",
   "metadata": {},
   "source": [
    "# Phase 1 - Preparation Phase"
   ]
  },
  {
   "cell_type": "code",
   "execution_count": 1,
   "metadata": {},
   "outputs": [
    {
     "data": {
      "text/html": [
       "<div>\n",
       "<style scoped>\n",
       "    .dataframe tbody tr th:only-of-type {\n",
       "        vertical-align: middle;\n",
       "    }\n",
       "\n",
       "    .dataframe tbody tr th {\n",
       "        vertical-align: top;\n",
       "    }\n",
       "\n",
       "    .dataframe thead th {\n",
       "        text-align: right;\n",
       "    }\n",
       "</style>\n",
       "<table border=\"1\" class=\"dataframe\">\n",
       "  <thead>\n",
       "    <tr style=\"text-align: right;\">\n",
       "      <th></th>\n",
       "      <th>Unnamed: 0</th>\n",
       "      <th>Event.Date</th>\n",
       "      <th>Country</th>\n",
       "      <th>Latitude</th>\n",
       "      <th>Longitude</th>\n",
       "      <th>Airport.Code</th>\n",
       "      <th>Aircraft.Damage</th>\n",
       "      <th>Aircraft.Category</th>\n",
       "      <th>Make</th>\n",
       "      <th>Model</th>\n",
       "      <th>...</th>\n",
       "      <th>Total.Uninjured</th>\n",
       "      <th>Weather.Condition</th>\n",
       "      <th>Broad.Phase.of.Flight</th>\n",
       "      <th>Month</th>\n",
       "      <th>Year</th>\n",
       "      <th>Time</th>\n",
       "      <th>Total.Passengers</th>\n",
       "      <th>Num_Aircraft_Damage</th>\n",
       "      <th>Severity.Score</th>\n",
       "      <th>Severity_Class</th>\n",
       "    </tr>\n",
       "  </thead>\n",
       "  <tbody>\n",
       "    <tr>\n",
       "      <th>0</th>\n",
       "      <td>0</td>\n",
       "      <td>31/12/2019</td>\n",
       "      <td>United States</td>\n",
       "      <td>39.128611</td>\n",
       "      <td>-123.715833</td>\n",
       "      <td>LLR</td>\n",
       "      <td>Substantial</td>\n",
       "      <td>Airplane</td>\n",
       "      <td>CESSNA</td>\n",
       "      <td>175</td>\n",
       "      <td>...</td>\n",
       "      <td>1.0</td>\n",
       "      <td>VMC</td>\n",
       "      <td>TAKEOFF</td>\n",
       "      <td>12</td>\n",
       "      <td>2019</td>\n",
       "      <td>2019-12</td>\n",
       "      <td>1.0</td>\n",
       "      <td>0.9</td>\n",
       "      <td>1.125000</td>\n",
       "      <td>1</td>\n",
       "    </tr>\n",
       "    <tr>\n",
       "      <th>1</th>\n",
       "      <td>1</td>\n",
       "      <td>31/12/2019</td>\n",
       "      <td>United States</td>\n",
       "      <td>38.846111</td>\n",
       "      <td>-94.736111</td>\n",
       "      <td>OJC</td>\n",
       "      <td>Destroyed</td>\n",
       "      <td>Airplane</td>\n",
       "      <td>MOONEY</td>\n",
       "      <td>M20S</td>\n",
       "      <td>...</td>\n",
       "      <td>0.0</td>\n",
       "      <td>VMC</td>\n",
       "      <td>TAKEOFF</td>\n",
       "      <td>12</td>\n",
       "      <td>2019</td>\n",
       "      <td>2019-12</td>\n",
       "      <td>2.0</td>\n",
       "      <td>1.0</td>\n",
       "      <td>10.000000</td>\n",
       "      <td>3</td>\n",
       "    </tr>\n",
       "    <tr>\n",
       "      <th>2</th>\n",
       "      <td>2</td>\n",
       "      <td>31/12/2019</td>\n",
       "      <td>United States</td>\n",
       "      <td>64.666945</td>\n",
       "      <td>-148.133334</td>\n",
       "      <td>XXX</td>\n",
       "      <td>Substantial</td>\n",
       "      <td>Airplane</td>\n",
       "      <td>CESSNA</td>\n",
       "      <td>170</td>\n",
       "      <td>...</td>\n",
       "      <td>2.0</td>\n",
       "      <td>UNK</td>\n",
       "      <td>UNKNOWN</td>\n",
       "      <td>12</td>\n",
       "      <td>2019</td>\n",
       "      <td>2019-12</td>\n",
       "      <td>2.0</td>\n",
       "      <td>0.9</td>\n",
       "      <td>1.125000</td>\n",
       "      <td>1</td>\n",
       "    </tr>\n",
       "    <tr>\n",
       "      <th>3</th>\n",
       "      <td>3</td>\n",
       "      <td>30/12/2019</td>\n",
       "      <td>United States</td>\n",
       "      <td>32.365556</td>\n",
       "      <td>-97.645000</td>\n",
       "      <td>XXX</td>\n",
       "      <td>Substantial</td>\n",
       "      <td>Airplane</td>\n",
       "      <td>VANS</td>\n",
       "      <td>RV 10</td>\n",
       "      <td>...</td>\n",
       "      <td>1.0</td>\n",
       "      <td>UNK</td>\n",
       "      <td>UNKNOWN</td>\n",
       "      <td>12</td>\n",
       "      <td>2019</td>\n",
       "      <td>2019-12</td>\n",
       "      <td>1.0</td>\n",
       "      <td>0.9</td>\n",
       "      <td>1.125000</td>\n",
       "      <td>1</td>\n",
       "    </tr>\n",
       "    <tr>\n",
       "      <th>4</th>\n",
       "      <td>5</td>\n",
       "      <td>28/12/2019</td>\n",
       "      <td>United States</td>\n",
       "      <td>30.176111</td>\n",
       "      <td>-92.007500</td>\n",
       "      <td>LFT</td>\n",
       "      <td>Destroyed</td>\n",
       "      <td>Airplane</td>\n",
       "      <td>PIPER</td>\n",
       "      <td>PA 31T</td>\n",
       "      <td>...</td>\n",
       "      <td>0.0</td>\n",
       "      <td>IMC</td>\n",
       "      <td>TAKEOFF</td>\n",
       "      <td>12</td>\n",
       "      <td>2019</td>\n",
       "      <td>2019-12</td>\n",
       "      <td>9.0</td>\n",
       "      <td>1.0</td>\n",
       "      <td>7.277778</td>\n",
       "      <td>2</td>\n",
       "    </tr>\n",
       "  </tbody>\n",
       "</table>\n",
       "<p>5 rows × 27 columns</p>\n",
       "</div>"
      ],
      "text/plain": [
       "   Unnamed: 0  Event.Date        Country   Latitude   Longitude Airport.Code  \\\n",
       "0           0  31/12/2019  United States  39.128611 -123.715833          LLR   \n",
       "1           1  31/12/2019  United States  38.846111  -94.736111          OJC   \n",
       "2           2  31/12/2019  United States  64.666945 -148.133334          XXX   \n",
       "3           3  30/12/2019  United States  32.365556  -97.645000          XXX   \n",
       "4           5  28/12/2019  United States  30.176111  -92.007500          LFT   \n",
       "\n",
       "  Aircraft.Damage Aircraft.Category    Make   Model  ... Total.Uninjured  \\\n",
       "0     Substantial          Airplane  CESSNA     175  ...             1.0   \n",
       "1       Destroyed          Airplane  MOONEY    M20S  ...             0.0   \n",
       "2     Substantial          Airplane  CESSNA     170  ...             2.0   \n",
       "3     Substantial          Airplane    VANS   RV 10  ...             1.0   \n",
       "4       Destroyed          Airplane   PIPER  PA 31T  ...             0.0   \n",
       "\n",
       "   Weather.Condition Broad.Phase.of.Flight Month  Year     Time  \\\n",
       "0                VMC               TAKEOFF    12  2019  2019-12   \n",
       "1                VMC               TAKEOFF    12  2019  2019-12   \n",
       "2                UNK               UNKNOWN    12  2019  2019-12   \n",
       "3                UNK               UNKNOWN    12  2019  2019-12   \n",
       "4                IMC               TAKEOFF    12  2019  2019-12   \n",
       "\n",
       "   Total.Passengers  Num_Aircraft_Damage Severity.Score Severity_Class  \n",
       "0               1.0                  0.9       1.125000              1  \n",
       "1               2.0                  1.0      10.000000              3  \n",
       "2               2.0                  0.9       1.125000              1  \n",
       "3               1.0                  0.9       1.125000              1  \n",
       "4               9.0                  1.0       7.277778              2  \n",
       "\n",
       "[5 rows x 27 columns]"
      ]
     },
     "execution_count": 1,
     "metadata": {},
     "output_type": "execute_result"
    }
   ],
   "source": [
    "import os\n",
    "os.environ[\"PATH\"] += os.pathsep + 'C:/Program Files (x86)/Graphviz2.38/bin/'\n",
    "\n",
    "# Basic Libraries\n",
    "import numpy as np\n",
    "import pandas as pd\n",
    "import seaborn as sb\n",
    "import matplotlib.pyplot as plt\n",
    "import matplotlib\n",
    "\n",
    "import sklearn as sk\n",
    "from sklearn.neural_network import MLPClassifier\n",
    "\n",
    "#Importing libraries for Decision Tree\n",
    "from sklearn.tree import DecisionTreeClassifier\n",
    "from sklearn.ensemble import ExtraTreesClassifier\n",
    "from sklearn.ensemble import RandomForestClassifier\n",
    "\n",
    "# Using Skicit-learn to split data into training and testing sets\n",
    "from sklearn.model_selection import train_test_split\n",
    "from sklearn.model_selection import validation_curve\n",
    "\n",
    "from sklearn.metrics import confusion_matrix\n",
    "from sklearn.tree import export_graphviz\n",
    "import graphviz\n",
    "import pydot\n",
    "from sklearn.model_selection import cross_val_score\n",
    "from sklearn.metrics import classification_report, confusion_matrix\n",
    "\n",
    "sb.set() # set the default Seaborn style for graphics\n",
    "from pandas import DataFrame\n",
    "from IPython.display import display\n",
    "from pandas.api.types import CategoricalDtype\n",
    "%matplotlib inline\n",
    "sb.set(rc={'figure.figsize':(11.7,8.27)})\n",
    "\n",
    "import itertools\n",
    "from scipy.stats import norm\n",
    "import scipy.stats\n",
    "from sklearn.naive_bayes import GaussianNB\n",
    "\n",
    "import xgboost as xgb\n",
    "from sklearn import datasets\n",
    "from sklearn.datasets import dump_svmlight_file\n",
    "import joblib\n",
    "from sklearn.metrics import precision_score\n",
    "\n",
    "from sklearn import svm\n",
    "\n",
    "import tensorflow\n",
    "import keras\n",
    "from keras.models import Sequential\n",
    "from keras.layers import Dense, Dropout\n",
    "\n",
    "#Import scikit-learn metrics module for accuracy calculation\n",
    "from sklearn import metrics\n",
    "from sklearn.naive_bayes import GaussianNB\n",
    "\n",
    "#Importing dataset Cleandata.csv that was previously cleaned\n",
    "aviation_data = 'cleandata.csv'\n",
    "AviationData = pd.read_csv(aviation_data, sep=',', header=0, encoding = 'iso-8859-1')\n",
    "AviationData.head()"
   ]
  },
  {
   "cell_type": "code",
   "execution_count": 2,
   "metadata": {},
   "outputs": [
    {
     "data": {
      "text/plain": [
       "Index(['Unnamed: 0', 'Event.Date', 'Country', 'Latitude', 'Longitude',\n",
       "       'Airport.Code', 'Aircraft.Damage', 'Aircraft.Category', 'Make', 'Model',\n",
       "       'Amateur.Built', 'Number.of.Engines', 'Engine.Type',\n",
       "       'Purpose.of.Flight', 'Total.Fatal.Injuries', 'Total.Serious.Injuries',\n",
       "       'Total.Minor.Injuries', 'Total.Uninjured', 'Weather.Condition',\n",
       "       'Broad.Phase.of.Flight', 'Month', 'Year', 'Time', 'Total.Passengers',\n",
       "       'Num_Aircraft_Damage', 'Severity.Score', 'Severity_Class'],\n",
       "      dtype='object')"
      ]
     },
     "execution_count": 2,
     "metadata": {},
     "output_type": "execute_result"
    }
   ],
   "source": [
    "#Displaying all columns available\n",
    "AviationData.columns"
   ]
  },
  {
   "cell_type": "markdown",
   "metadata": {},
   "source": [
    "## Compiling Data for Multivariate Tree"
   ]
  },
  {
   "cell_type": "markdown",
   "metadata": {},
   "source": [
    "### One-Hot Encoding for Nominal Categorical Variables"
   ]
  },
  {
   "cell_type": "code",
   "execution_count": 2,
   "metadata": {},
   "outputs": [
    {
     "data": {
      "text/plain": [
       "CESSNA       8587\n",
       "PIPER        4833\n",
       "BEECH        1813\n",
       "BELL          825\n",
       "MOONEY        490\n",
       "ROBINSON      474\n",
       "BOEING        348\n",
       "BELLANCA      310\n",
       "SCHWEIZER     289\n",
       "HUGHES        283\n",
       "Name: Make, dtype: int64"
      ]
     },
     "execution_count": 2,
     "metadata": {},
     "output_type": "execute_result"
    }
   ],
   "source": [
    "#Displaying the top 10 Make of aircraft by value\n",
    "AviationData[\"Make\"].value_counts().head(10)"
   ]
  },
  {
   "cell_type": "code",
   "execution_count": 3,
   "metadata": {},
   "outputs": [
    {
     "data": {
      "text/plain": [
       "172          623\n",
       "152          476\n",
       "172N         369\n",
       "172S         340\n",
       "172M         266\n",
       "PA-28-140    251\n",
       "180          250\n",
       "182          229\n",
       "A36          225\n",
       "PA-18-150    223\n",
       "Name: Model, dtype: int64"
      ]
     },
     "execution_count": 3,
     "metadata": {},
     "output_type": "execute_result"
    }
   ],
   "source": [
    "#Displaying the top 10 Model of aircraft by value\n",
    "AviationData[\"Model\"].value_counts().head(10)"
   ]
  },
  {
   "cell_type": "code",
   "execution_count": 4,
   "metadata": {},
   "outputs": [],
   "source": [
    "#Creating a list using the Top to Model and Make of Aircraft\n",
    "TenCompanies = ['CESSNA', 'PIPER', 'BEECH', 'BELL', 'MOONEY', 'BOEING', 'ROBINSON', 'BELLANCA', 'SCHWEIZER', 'HUGHES']\n",
    "TenModels = ['172', '152', '172S', '172N', '172M ','180', '182', 'PA-28-140', 'A36', 'SR22']\n",
    "\n",
    "#Creating function to reassign all other make and model with \"OTHER\"\n",
    "def return_company(row):\n",
    "    if row['Make'] in TenCompanies:\n",
    "        Make = row['Make']\n",
    "    else:\n",
    "        Make ='OTHER'\n",
    "    return Make\n",
    "    \n",
    "def return_model(row):\n",
    "    if row['Model'] in TenModels:\n",
    "        Model = row['Model']\n",
    "    else:\n",
    "        Model ='OTHER'\n",
    "    return Model\n",
    "\n",
    "#Updating the dataset\n",
    "AviationData = AviationData.assign(Make_10 = AviationData.apply (lambda row: return_company(row), axis=1))\n",
    "AviationData = AviationData.assign(Model_10 = AviationData.apply (lambda row: return_model(row), axis=1))"
   ]
  },
  {
   "cell_type": "code",
   "execution_count": 5,
   "metadata": {},
   "outputs": [],
   "source": [
    "#Filtering predictors into a Dataframe\n",
    "AllPredictors = pd.DataFrame(AviationData[['Make_10', 'Model_10','Engine.Type','Amateur.Built','Broad.Phase.of.Flight', 'Year', 'Month', 'Weather.Condition', 'Purpose.of.Flight', 'Aircraft.Category', 'Number.of.Engines', 'Severity.Score', 'Severity_Class']])\n",
    "AllPredictors = AllPredictors.fillna(0)\n",
    "AllPredictors[['Year', 'Month', 'Number.of.Engines', 'Severity_Class']] = AllPredictors[['Year', 'Month', 'Number.of.Engines', 'Severity_Class']].astype('category')"
   ]
  },
  {
   "cell_type": "markdown",
   "metadata": {},
   "source": [
    "#### <font color=#800020>In the next step the 11 predictor variables will get converted to one-hot to be able to be fitted into the classifier and regression.</font>"
   ]
  },
  {
   "cell_type": "code",
   "execution_count": 6,
   "metadata": {},
   "outputs": [
    {
     "data": {
      "text/plain": [
       "(31403, 129)"
      ]
     },
     "execution_count": 6,
     "metadata": {},
     "output_type": "execute_result"
    }
   ],
   "source": [
    "#One-hot encoding on nominal categorical variables\n",
    "AllPredictors = pd.get_dummies(AllPredictors,prefix = ['Make_10','Model_10','Engine.Type','Amateur.Built', 'Broad.Phase.of.Flight', 'Year', 'Month', 'Weather.Condition','Purpose.of.Flight', 'Aircraft.Category', 'Number.of.Engines', 'Severity_Class'])\n",
    "AllPredictors['Severity_Class'] = AviationData['Severity_Class']\n",
    "AllPredictors.shape"
   ]
  },
  {
   "cell_type": "code",
   "execution_count": 8,
   "metadata": {},
   "outputs": [],
   "source": [
    "#Storing encoded data as a csv\n",
    "AllPredictors.to_csv(\"predictors.csv\",index=False)"
   ]
  },
  {
   "cell_type": "markdown",
   "metadata": {},
   "source": [
    "# Phase 2 - Choosing Algorithm"
   ]
  },
  {
   "cell_type": "markdown",
   "metadata": {},
   "source": [
    "## Phase 2a - Regression"
   ]
  },
  {
   "cell_type": "markdown",
   "metadata": {},
   "source": [
    "## Spliting the data for  Regression"
   ]
  },
  {
   "cell_type": "markdown",
   "metadata": {},
   "source": [
    "#### <font color=#800020>For random forest regression, the response variable used would be severity score which is a continuous variable. Severity class is will dropped in this case as well as it will be used as the response variable for classification in the next part.</font>"
   ]
  },
  {
   "cell_type": "code",
   "execution_count": 9,
   "metadata": {},
   "outputs": [],
   "source": [
    "# Labels are the values we want to predict\n",
    "labels = np.array(AllPredictors['Severity.Score'])\n",
    "\n",
    "# Remove the labels from the features\n",
    "# axis 1 refers to the columns\n",
    "features = AllPredictors.drop(['Severity.Score','Severity_Class_1', 'Severity_Class_2', 'Severity_Class_3', 'Severity_Class'], axis = 1)\n",
    "\n",
    "featuresdfR = features\n",
    "# Saving feature names for later use\n",
    "feature_list_R = list(features.columns)\n",
    "\n",
    "# Convert to numpy array\n",
    "featuresR = np.array(features)\n",
    "\n",
    "# Using Skicit-learn to split data into training and testing sets\n",
    "from sklearn.model_selection import train_test_split\n",
    "# Split the data into training and testing sets\n",
    "train_features, test_features, train_labels, test_labels = train_test_split(features, labels, test_size = 0.20, random_state = 50)"
   ]
  },
  {
   "cell_type": "markdown",
   "metadata": {},
   "source": [
    "#### <font color=#800020>The tree for regression is split on a 80:20 train to test ratio and the parameters used are n_estimators=500 and random_state=50. Random state is configured to 50 throughout this project to maintain consistancy in the results.</font>"
   ]
  },
  {
   "cell_type": "code",
   "execution_count": 10,
   "metadata": {},
   "outputs": [],
   "source": [
    "from sklearn.ensemble import RandomForestRegressor\n",
    "\n",
    "regressor = RandomForestRegressor(n_estimators=500, random_state=0)\n",
    "regressor.fit(train_features, train_labels)\n",
    "y_pred_R = regressor.predict(test_features)"
   ]
  },
  {
   "cell_type": "code",
   "execution_count": 11,
   "metadata": {},
   "outputs": [
    {
     "name": "stdout",
     "output_type": "stream",
     "text": [
      "Mean Absolute Error: 1.8868115358368314\n",
      "Mean Squared Error: 7.818728084717957\n",
      "Root Mean Squared Error: 2.7961988635856994\n"
     ]
    }
   ],
   "source": [
    "print('Mean Absolute Error:', metrics.mean_absolute_error(test_labels, y_pred_R))\n",
    "print('Mean Squared Error:', metrics.mean_squared_error(test_labels, y_pred_R))\n",
    "print('Root Mean Squared Error:', np.sqrt(metrics.mean_squared_error(test_labels, y_pred_R)))"
   ]
  },
  {
   "cell_type": "markdown",
   "metadata": {},
   "source": [
    "#### <font color=#800020>The MAE and MSE are considerably high, considering that we have a small range of Severity Score only from 1 to 10. The RMSE is significantly higher that the MAE, hinting that we may have many significant outliers. As such we can observe that the model created may not be a very good fit on the test set.</font>"
   ]
  },
  {
   "cell_type": "code",
   "execution_count": 12,
   "metadata": {},
   "outputs": [
    {
     "data": {
      "text/html": [
       "<div>\n",
       "<style scoped>\n",
       "    .dataframe tbody tr th:only-of-type {\n",
       "        vertical-align: middle;\n",
       "    }\n",
       "\n",
       "    .dataframe tbody tr th {\n",
       "        vertical-align: top;\n",
       "    }\n",
       "\n",
       "    .dataframe thead th {\n",
       "        text-align: right;\n",
       "    }\n",
       "</style>\n",
       "<table border=\"1\" class=\"dataframe\">\n",
       "  <thead>\n",
       "    <tr style=\"text-align: right;\">\n",
       "      <th></th>\n",
       "      <th>importance</th>\n",
       "    </tr>\n",
       "  </thead>\n",
       "  <tbody>\n",
       "    <tr>\n",
       "      <th>Broad.Phase.of.Flight_LANDING</th>\n",
       "      <td>0.113561</td>\n",
       "    </tr>\n",
       "    <tr>\n",
       "      <th>Weather.Condition_IMC</th>\n",
       "      <td>0.067259</td>\n",
       "    </tr>\n",
       "    <tr>\n",
       "      <th>Broad.Phase.of.Flight_MANEUVERING</th>\n",
       "      <td>0.028697</td>\n",
       "    </tr>\n",
       "    <tr>\n",
       "      <th>Purpose.of.Flight_Personal</th>\n",
       "      <td>0.022700</td>\n",
       "    </tr>\n",
       "    <tr>\n",
       "      <th>Month_8</th>\n",
       "      <td>0.019263</td>\n",
       "    </tr>\n",
       "    <tr>\n",
       "      <th>Month_7</th>\n",
       "      <td>0.019025</td>\n",
       "    </tr>\n",
       "    <tr>\n",
       "      <th>Month_5</th>\n",
       "      <td>0.018484</td>\n",
       "    </tr>\n",
       "    <tr>\n",
       "      <th>Month_6</th>\n",
       "      <td>0.017810</td>\n",
       "    </tr>\n",
       "    <tr>\n",
       "      <th>Month_9</th>\n",
       "      <td>0.017796</td>\n",
       "    </tr>\n",
       "    <tr>\n",
       "      <th>Month_4</th>\n",
       "      <td>0.017128</td>\n",
       "    </tr>\n",
       "  </tbody>\n",
       "</table>\n",
       "</div>"
      ],
      "text/plain": [
       "                                   importance\n",
       "Broad.Phase.of.Flight_LANDING        0.113561\n",
       "Weather.Condition_IMC                0.067259\n",
       "Broad.Phase.of.Flight_MANEUVERING    0.028697\n",
       "Purpose.of.Flight_Personal           0.022700\n",
       "Month_8                              0.019263\n",
       "Month_7                              0.019025\n",
       "Month_5                              0.018484\n",
       "Month_6                              0.017810\n",
       "Month_9                              0.017796\n",
       "Month_4                              0.017128"
      ]
     },
     "execution_count": 12,
     "metadata": {},
     "output_type": "execute_result"
    }
   ],
   "source": [
    "feature_importances_R = pd.DataFrame(regressor.feature_importances_,\n",
    "                                   index = featuresdfR.columns ,\n",
    "                                    columns=['importance']).sort_values('importance', ascending=True)\n",
    "feature_importances_R.nlargest(10,\"importance\")"
   ]
  },
  {
   "cell_type": "markdown",
   "metadata": {},
   "source": [
    "#### <font color=#800020>The first 4 variable actually shed some light on the important features but the next 6 are more generic features.</font>"
   ]
  },
  {
   "cell_type": "code",
   "execution_count": 13,
   "metadata": {},
   "outputs": [
    {
     "data": {
      "text/plain": [
       "0.16206514757057267"
      ]
     },
     "execution_count": 13,
     "metadata": {},
     "output_type": "execute_result"
    }
   ],
   "source": [
    "regressor.score(test_features, test_labels)"
   ]
  },
  {
   "cell_type": "markdown",
   "metadata": {},
   "source": [
    "#### <font color=#800020>Having a R^2 value of 0.1621 shows that our model is <b>not</b> a good fit. We will compare this score to the score of the RF classifier before determining whether regression or classification may be more benefit for the model.</font>"
   ]
  },
  {
   "cell_type": "markdown",
   "metadata": {},
   "source": [
    "## Phase 2b - Classification"
   ]
  },
  {
   "cell_type": "markdown",
   "metadata": {},
   "source": [
    "## Spliting the data for Classification"
   ]
  },
  {
   "cell_type": "markdown",
   "metadata": {},
   "source": [
    "#### <font color=#800020>Similar to RF regression, an 80 to 20, train to test ratio is used. The only difference in the forest would be the response variable. In RF classification, we fitted the severity score into 3 classes (Classes 1, 2 and 3) and used it as the response variable.</font>"
   ]
  },
  {
   "cell_type": "code",
   "execution_count": 7,
   "metadata": {},
   "outputs": [],
   "source": [
    "# Labels are the values we want to predict\n",
    "labelsC = np.array(AllPredictors['Severity_Class'])\n",
    "\n",
    "# Remove the labels from the features\n",
    "# axis 1 refers to the columns\n",
    "featuresC = AllPredictors.drop(['Severity.Score','Severity_Class_1', 'Severity_Class_2', 'Severity_Class_3', 'Severity_Class'], axis = 1)\n",
    "\n",
    "featuresdf = featuresC\n",
    "# Saving feature names for later use\n",
    "feature_list = list(featuresC.columns)\n",
    "\n",
    "\n",
    "# Convert to numpy array\n",
    "featuresC = np.array(featuresC)\n",
    "\n",
    "# Split the data into training and testing sets\n",
    "train_featuresC, test_featuresC, train_labelsC, test_labelsC = train_test_split(featuresC, labelsC, test_size = 0.20, random_state = 50)"
   ]
  },
  {
   "cell_type": "markdown",
   "metadata": {},
   "source": [
    "#### <font color=#800020>The data split above will be used to run most of the algorithms that we will be using below.</font>"
   ]
  },
  {
   "cell_type": "markdown",
   "metadata": {},
   "source": [
    "### Random Forest Classification Algorithm"
   ]
  },
  {
   "cell_type": "code",
   "execution_count": 8,
   "metadata": {},
   "outputs": [
    {
     "data": {
      "text/plain": [
       "RandomForestClassifier(bootstrap=True, ccp_alpha=0.0, class_weight=None,\n",
       "                       criterion='gini', max_depth=None, max_features='auto',\n",
       "                       max_leaf_nodes=None, max_samples=None,\n",
       "                       min_impurity_decrease=0.0, min_impurity_split=None,\n",
       "                       min_samples_leaf=1, min_samples_split=2,\n",
       "                       min_weight_fraction_leaf=0.0, n_estimators=500,\n",
       "                       n_jobs=None, oob_score=False, random_state=50, verbose=0,\n",
       "                       warm_start=False)"
      ]
     },
     "execution_count": 8,
     "metadata": {},
     "output_type": "execute_result"
    }
   ],
   "source": [
    "# Fitting the classifier to the Training set\n",
    "model = RandomForestClassifier(n_estimators=500, criterion='gini', random_state = 50)\n",
    "model.fit(train_featuresC, train_labelsC)"
   ]
  },
  {
   "cell_type": "code",
   "execution_count": 16,
   "metadata": {},
   "outputs": [
    {
     "data": {
      "text/html": [
       "<div>\n",
       "<style scoped>\n",
       "    .dataframe tbody tr th:only-of-type {\n",
       "        vertical-align: middle;\n",
       "    }\n",
       "\n",
       "    .dataframe tbody tr th {\n",
       "        vertical-align: top;\n",
       "    }\n",
       "\n",
       "    .dataframe thead th {\n",
       "        text-align: right;\n",
       "    }\n",
       "</style>\n",
       "<table border=\"1\" class=\"dataframe\">\n",
       "  <thead>\n",
       "    <tr style=\"text-align: right;\">\n",
       "      <th></th>\n",
       "      <th>importance</th>\n",
       "    </tr>\n",
       "  </thead>\n",
       "  <tbody>\n",
       "    <tr>\n",
       "      <th>Broad.Phase.of.Flight_LANDING</th>\n",
       "      <td>0.068656</td>\n",
       "    </tr>\n",
       "    <tr>\n",
       "      <th>Month_7</th>\n",
       "      <td>0.023634</td>\n",
       "    </tr>\n",
       "    <tr>\n",
       "      <th>Month_6</th>\n",
       "      <td>0.023275</td>\n",
       "    </tr>\n",
       "    <tr>\n",
       "      <th>Month_8</th>\n",
       "      <td>0.023192</td>\n",
       "    </tr>\n",
       "    <tr>\n",
       "      <th>Month_5</th>\n",
       "      <td>0.022763</td>\n",
       "    </tr>\n",
       "    <tr>\n",
       "      <th>Broad.Phase.of.Flight_MANEUVERING</th>\n",
       "      <td>0.022333</td>\n",
       "    </tr>\n",
       "    <tr>\n",
       "      <th>Month_9</th>\n",
       "      <td>0.020774</td>\n",
       "    </tr>\n",
       "    <tr>\n",
       "      <th>Month_4</th>\n",
       "      <td>0.020661</td>\n",
       "    </tr>\n",
       "  </tbody>\n",
       "</table>\n",
       "</div>"
      ],
      "text/plain": [
       "                                   importance\n",
       "Broad.Phase.of.Flight_LANDING        0.068656\n",
       "Month_7                              0.023634\n",
       "Month_6                              0.023275\n",
       "Month_8                              0.023192\n",
       "Month_5                              0.022763\n",
       "Broad.Phase.of.Flight_MANEUVERING    0.022333\n",
       "Month_9                              0.020774\n",
       "Month_4                              0.020661"
      ]
     },
     "execution_count": 16,
     "metadata": {},
     "output_type": "execute_result"
    }
   ],
   "source": [
    "#Retrieving the important determining features from the random forest\n",
    "feature_importances = pd.DataFrame(model.feature_importances_,\n",
    "                                   index = featuresdf.columns ,\n",
    "                                    columns=['importance']).sort_values('importance', ascending=True)\n",
    "feature_importances.nlargest(8,\"importance\")"
   ]
  },
  {
   "cell_type": "markdown",
   "metadata": {},
   "source": [
    "#### <font color=#800020>The feature importance contains 6 \"month\" data and 2 \"Broad phase of flight data\". This could be interesting be the importance percentage is rather low with most just slightly above 2%</font>"
   ]
  },
  {
   "cell_type": "code",
   "execution_count": 9,
   "metadata": {},
   "outputs": [],
   "source": [
    "# Predicting the test set result\n",
    "y_pred = model.predict(test_featuresC)"
   ]
  },
  {
   "cell_type": "code",
   "execution_count": 18,
   "metadata": {
    "scrolled": false
   },
   "outputs": [
    {
     "data": {
      "text/plain": [
       "(3, 0)"
      ]
     },
     "execution_count": 18,
     "metadata": {},
     "output_type": "execute_result"
    },
    {
     "data": {
      "image/png": "[encoded data removed]",
      "text/plain": [
       "<Figure size 432x288 with 2 Axes>"
      ]
     },
     "metadata": {},
     "output_type": "display_data"
    }
   ],
   "source": [
    "# Making the confusion matrix\n",
    "cm = confusion_matrix(test_labelsC, y_pred)\n",
    "\n",
    "sb.set(font_scale=1.4) # for label size\n",
    "ax = sb.heatmap(cm, annot=True, fmt='g', annot_kws={\"size\": 16}, xticklabels = [1,2,3], yticklabels = [1,2,3]) # font size\n",
    "ax.set_ylim(len(cm), 0)\n",
    "#ax.figure.savefig('Forest_CM.png', dpi=300,transparent=True)"
   ]
  },
  {
   "cell_type": "code",
   "execution_count": 19,
   "metadata": {},
   "outputs": [
    {
     "data": {
      "text/plain": [
       "0.6118452475720426"
      ]
     },
     "execution_count": 19,
     "metadata": {},
     "output_type": "execute_result"
    }
   ],
   "source": [
    "# Getting the score for our model\n",
    "model.score(test_featuresC, test_labelsC)"
   ]
  },
  {
   "cell_type": "code",
   "execution_count": 20,
   "metadata": {},
   "outputs": [],
   "source": [
    "rfc_cv_score = cross_val_score(model, featuresC, labelsC, cv=2, scoring='accuracy')"
   ]
  },
  {
   "cell_type": "code",
   "execution_count": 21,
   "metadata": {},
   "outputs": [
    {
     "name": "stdout",
     "output_type": "stream",
     "text": [
      "=== Confusion Matrix ===\n",
      "[[2716  764   81]\n",
      " [1063 1007  134]\n",
      " [ 160  236  120]]\n",
      "\n",
      "\n",
      "=== Classification Report ===\n",
      "              precision    recall  f1-score   support\n",
      "\n",
      "           1       0.69      0.76      0.72      3561\n",
      "           2       0.50      0.46      0.48      2204\n",
      "           3       0.36      0.23      0.28       516\n",
      "\n",
      "    accuracy                           0.61      6281\n",
      "   macro avg       0.52      0.48      0.49      6281\n",
      "weighted avg       0.60      0.61      0.60      6281\n",
      "\n",
      "\n",
      "\n",
      "=== All Accuracy Scores ===\n",
      "[0.57307521 0.27140127]\n",
      "\n",
      "\n",
      "=== Mean Accuracy Score ===\n",
      "Mean Accuracy Score - Random Forest:  0.4222382412221122\n"
     ]
    }
   ],
   "source": [
    "print(\"=== Confusion Matrix ===\")\n",
    "print(confusion_matrix(test_labelsC, y_pred))\n",
    "print('\\n')\n",
    "print(\"=== Classification Report ===\")\n",
    "print(classification_report(test_labelsC, y_pred))\n",
    "print('\\n')\n",
    "print(\"=== All Accuracy Scores ===\")\n",
    "print(rfc_cv_score)\n",
    "print('\\n')\n",
    "print(\"=== Mean Accuracy Score ===\")\n",
    "print(\"Mean Accuracy Score - Random Forest: \", rfc_cv_score.mean())"
   ]
  },
  {
   "cell_type": "markdown",
   "metadata": {},
   "source": [
    "#### <font color=#800020>From the classification report, the general trend would be that class 1 would have the highest accuracy and class 3 would have the lowest. From the support column it could be seen that this is perhaps due to the dataset not being spread out sufficiently. As our assignment of severity class is from a preset formula in data preparation phase, if there is a different definition is the future, the formula can be adjusted and the data will change accordingly. </font>"
   ]
  },
  {
   "cell_type": "markdown",
   "metadata": {},
   "source": [
    "## Phase 2c - Tuning"
   ]
  },
  {
   "cell_type": "markdown",
   "metadata": {},
   "source": [
    "### Extremely Randomized Trees Classifier (Extra Trees)"
   ]
  },
  {
   "cell_type": "code",
   "execution_count": 22,
   "metadata": {},
   "outputs": [
    {
     "name": "stderr",
     "output_type": "stream",
     "text": [
      "C:\\Users\\Irvin\\Anaconda3\\lib\\site-packages\\sklearn\\ensemble\\forest.py:245: FutureWarning: The default value of n_estimators will change from 10 in version 0.20 to 100 in 0.22.\n",
      "  \"10 in version 0.20 to 100 in 0.22.\", FutureWarning)\n"
     ]
    },
    {
     "data": {
      "text/plain": [
       "0.5932176405031045"
      ]
     },
     "execution_count": 22,
     "metadata": {},
     "output_type": "execute_result"
    }
   ],
   "source": [
    "#Double checking random forest with \n",
    "extra = ExtraTreesClassifier(criterion='gini', random_state = 50)\n",
    "extra.fit(train_featuresC, train_labelsC)\n",
    "#print(extra.feature_importances_) #use inbuilt class feature_importances of tree based classifiers\n",
    "extra.score(test_featuresC, test_labelsC)"
   ]
  },
  {
   "cell_type": "code",
   "execution_count": 23,
   "metadata": {},
   "outputs": [
    {
     "data": {
      "image/png": "[encoded data removed]",
      "text/plain": [
       "<Figure size 432x288 with 1 Axes>"
      ]
     },
     "metadata": {},
     "output_type": "display_data"
    }
   ],
   "source": [
    "#plot graph of feature importances for better visualization\n",
    "feat_importances = pd.Series(extra.feature_importances_,  index = featuresdf.columns)\n",
    "feat_importances.nlargest(15).plot(kind='barh')\n",
    "plt.show()"
   ]
  },
  {
   "cell_type": "markdown",
   "metadata": {},
   "source": [
    "#### <font color=#800020>Extra tree is very similar to Random forest classification in terms of accuracy with the exception in bootstrapping. We used extra tree to generate result quickly when running tuning and validation of results.</font>"
   ]
  },
  {
   "cell_type": "markdown",
   "metadata": {},
   "source": [
    "### Tuning the Random Forest"
   ]
  },
  {
   "cell_type": "code",
   "execution_count": 12,
   "metadata": {
    "scrolled": false
   },
   "outputs": [],
   "source": [
    "num_maxdepth = [11,14,17,20]\n",
    "\n",
    "train_scoreNum, test_scoreNum = validation_curve(\n",
    "                                RandomForestClassifier(),\n",
    "                                X = train_featuresC, y = train_labelsC, \n",
    "                                param_name = 'max_depth', \n",
    "                                param_range = num_maxdepth, cv = 3)"
   ]
  },
  {
   "cell_type": "code",
   "execution_count": 13,
   "metadata": {},
   "outputs": [
    {
     "data": {
      "image/png": "[encoded data removed]",
      "text/plain": [
       "<Figure size 842.4x595.44 with 1 Axes>"
      ]
     },
     "metadata": {},
     "output_type": "display_data"
    }
   ],
   "source": [
    "# Calculate mean and standard deviation for training set scores\n",
    "train_mean = np.mean(train_scoreNum, axis=1)\n",
    "train_std = np.std(train_scoreNum, axis=1)\n",
    "\n",
    "# Calculate mean and standard deviation for test set scores\n",
    "test_mean = np.mean(test_scoreNum, axis=1)\n",
    "test_std = np.std(test_scoreNum, axis=1)\n",
    "\n",
    "# Plot mean accuracy scores for training and test sets\n",
    "#plt.plot(num_maxfeatures, train_mean, label=\"Training score\", color=\"black\")\n",
    "plt.plot(num_maxdepth, test_mean, label=\"Cross-validation score\", color=\"dimgrey\")\n",
    "\n",
    "# Plot accurancy bands for training and test sets\n",
    "#plt.fill_between(num_maxfeatures, train_mean - train_std, train_mean + train_std, color=\"gray\")\n",
    "plt.fill_between(num_maxdepth, test_mean - test_std, test_mean + test_std, color=\"gainsboro\")\n",
    "\n",
    "# Create plot\n",
    "plt.title(\"Validation Curve With Random Forest\")\n",
    "plt.xlabel(\"Max Depth\")\n",
    "plt.ylabel(\"Accuracy Score\")\n",
    "plt.tight_layout()\n",
    "plt.legend(loc=\"best\")\n",
    "plt.show()"
   ]
  },
  {
   "cell_type": "markdown",
   "metadata": {},
   "source": [
    "#### <font color=#800020>Tuning max depth could be slightly tricky as if the depth is too much it may result in overfitting which is a common problem in this case. The max depth for our tuned tree is picked using the highest peak in the curve, which is 17. To be sure that the validation curve gives us the best result, we manually ran through the depths using our model to ensure we get the best accuracy</font>"
   ]
  },
  {
   "cell_type": "code",
   "execution_count": 26,
   "metadata": {},
   "outputs": [
    {
     "name": "stderr",
     "output_type": "stream",
     "text": [
      "C:\\Users\\Irvin\\Anaconda3\\lib\\site-packages\\sklearn\\ensemble\\forest.py:245: FutureWarning: The default value of n_estimators will change from 10 in version 0.20 to 100 in 0.22.\n",
      "  \"10 in version 0.20 to 100 in 0.22.\", FutureWarning)\n",
      "C:\\Users\\Irvin\\Anaconda3\\lib\\site-packages\\sklearn\\ensemble\\forest.py:245: FutureWarning: The default value of n_estimators will change from 10 in version 0.20 to 100 in 0.22.\n",
      "  \"10 in version 0.20 to 100 in 0.22.\", FutureWarning)\n",
      "C:\\Users\\Irvin\\Anaconda3\\lib\\site-packages\\sklearn\\ensemble\\forest.py:245: FutureWarning: The default value of n_estimators will change from 10 in version 0.20 to 100 in 0.22.\n",
      "  \"10 in version 0.20 to 100 in 0.22.\", FutureWarning)\n",
      "C:\\Users\\Irvin\\Anaconda3\\lib\\site-packages\\sklearn\\ensemble\\forest.py:245: FutureWarning: The default value of n_estimators will change from 10 in version 0.20 to 100 in 0.22.\n",
      "  \"10 in version 0.20 to 100 in 0.22.\", FutureWarning)\n",
      "C:\\Users\\Irvin\\Anaconda3\\lib\\site-packages\\sklearn\\ensemble\\forest.py:245: FutureWarning: The default value of n_estimators will change from 10 in version 0.20 to 100 in 0.22.\n",
      "  \"10 in version 0.20 to 100 in 0.22.\", FutureWarning)\n",
      "C:\\Users\\Irvin\\Anaconda3\\lib\\site-packages\\sklearn\\ensemble\\forest.py:245: FutureWarning: The default value of n_estimators will change from 10 in version 0.20 to 100 in 0.22.\n",
      "  \"10 in version 0.20 to 100 in 0.22.\", FutureWarning)\n",
      "C:\\Users\\Irvin\\Anaconda3\\lib\\site-packages\\sklearn\\ensemble\\forest.py:245: FutureWarning: The default value of n_estimators will change from 10 in version 0.20 to 100 in 0.22.\n",
      "  \"10 in version 0.20 to 100 in 0.22.\", FutureWarning)\n",
      "C:\\Users\\Irvin\\Anaconda3\\lib\\site-packages\\sklearn\\ensemble\\forest.py:245: FutureWarning: The default value of n_estimators will change from 10 in version 0.20 to 100 in 0.22.\n",
      "  \"10 in version 0.20 to 100 in 0.22.\", FutureWarning)\n",
      "C:\\Users\\Irvin\\Anaconda3\\lib\\site-packages\\sklearn\\ensemble\\forest.py:245: FutureWarning: The default value of n_estimators will change from 10 in version 0.20 to 100 in 0.22.\n",
      "  \"10 in version 0.20 to 100 in 0.22.\", FutureWarning)\n",
      "C:\\Users\\Irvin\\Anaconda3\\lib\\site-packages\\sklearn\\ensemble\\forest.py:245: FutureWarning: The default value of n_estimators will change from 10 in version 0.20 to 100 in 0.22.\n",
      "  \"10 in version 0.20 to 100 in 0.22.\", FutureWarning)\n",
      "C:\\Users\\Irvin\\Anaconda3\\lib\\site-packages\\sklearn\\ensemble\\forest.py:245: FutureWarning: The default value of n_estimators will change from 10 in version 0.20 to 100 in 0.22.\n",
      "  \"10 in version 0.20 to 100 in 0.22.\", FutureWarning)\n",
      "C:\\Users\\Irvin\\Anaconda3\\lib\\site-packages\\sklearn\\ensemble\\forest.py:245: FutureWarning: The default value of n_estimators will change from 10 in version 0.20 to 100 in 0.22.\n",
      "  \"10 in version 0.20 to 100 in 0.22.\", FutureWarning)\n"
     ]
    }
   ],
   "source": [
    "num_minsamplessplit = [5,10,15,20]\n",
    "train_scoreNum, test_scoreNum = validation_curve(\n",
    "                                RandomForestClassifier(),\n",
    "                                X = train_featuresC, y = train_labelsC, \n",
    "                                param_name = 'min_samples_split', \n",
    "                                param_range = num_minsamplessplit, cv = 3)"
   ]
  },
  {
   "cell_type": "code",
   "execution_count": 27,
   "metadata": {},
   "outputs": [
    {
     "data": {
      "image/png": "[encoded data removed]",
      "text/plain": [
       "<Figure size 432x288 with 1 Axes>"
      ]
     },
     "metadata": {},
     "output_type": "display_data"
    }
   ],
   "source": [
    "# Calculate mean and standard deviation for training set scores\n",
    "train_mean = np.mean(train_scoreNum, axis=1)\n",
    "train_std = np.std(train_scoreNum, axis=1)\n",
    "\n",
    "# Calculate mean and standard deviation for test set scores\n",
    "test_mean = np.mean(test_scoreNum, axis=1)\n",
    "test_std = np.std(test_scoreNum, axis=1)\n",
    "\n",
    "# Plot mean accuracy scores for training and test sets\n",
    "#plt.plot(num_maxfeatures, train_mean, label=\"Training score\", color=\"black\")\n",
    "plt.plot(num_minsamplessplit, test_mean, label=\"Cross-validation score\", color=\"dimgrey\")\n",
    "\n",
    "# Plot accurancy bands for training and test sets\n",
    "#plt.fill_between(num_maxfeatures, train_mean - train_std, train_mean + train_std, color=\"gray\")\n",
    "plt.fill_between(num_minsamplessplit, test_mean - test_std, test_mean + test_std, color=\"gainsboro\")\n",
    "\n",
    "# Create plot\n",
    "plt.title(\"Validation Curve With Random Forest\")\n",
    "plt.xlabel(\"Min Samples Split\")\n",
    "plt.ylabel(\"Accuracy Score\")\n",
    "plt.tight_layout()\n",
    "plt.legend(loc=\"best\")\n",
    "plt.show()"
   ]
  },
  {
   "cell_type": "markdown",
   "metadata": {},
   "source": [
    "#### <font color=#800020>For Min samples split, although the curve continues to increase, we chose 10 as the min sample split as having a larger number could result in more general nodes in the tree.</font>"
   ]
  },
  {
   "cell_type": "code",
   "execution_count": 28,
   "metadata": {
    "scrolled": true
   },
   "outputs": [],
   "source": [
    "num_maxEst = [500, 750, 800, 1200]\n",
    "train_scoreNum, test_scoreNum = validation_curve(\n",
    "                                RandomForestClassifier(),\n",
    "                                X = train_featuresC, y = train_labelsC, \n",
    "                                param_name = 'n_estimators', \n",
    "                                param_range = num_maxEst, cv = 3)"
   ]
  },
  {
   "cell_type": "code",
   "execution_count": 29,
   "metadata": {},
   "outputs": [
    {
     "data": {
      "image/png": "[encoded data removed]",
      "text/plain": [
       "<Figure size 432x288 with 1 Axes>"
      ]
     },
     "metadata": {},
     "output_type": "display_data"
    }
   ],
   "source": [
    "# Calculate mean and standard deviation for training set scores\n",
    "train_mean = np.mean(train_scoreNum, axis=1)\n",
    "train_std = np.std(train_scoreNum, axis=1)\n",
    "\n",
    "# Calculate mean and standard deviation for test set scores\n",
    "test_mean = np.mean(test_scoreNum, axis=1)\n",
    "test_std = np.std(test_scoreNum, axis=1)\n",
    "\n",
    "# Plot mean accuracy scores for training and test sets\n",
    "#plt.plot(num_maxfeatures, train_mean, label=\"Training score\", color=\"black\")\n",
    "plt.plot(num_maxEst, test_mean, label=\"Cross-validation score\", color=\"dimgrey\")\n",
    "\n",
    "# Plot accurancy bands for training and test sets\n",
    "#plt.fill_between(num_maxfeatures, train_mean - train_std, train_mean + train_std, color=\"gray\")\n",
    "plt.fill_between(num_maxEst, test_mean - test_std, test_mean + test_std, color=\"gainsboro\")\n",
    "\n",
    "# Create plot\n",
    "plt.title(\"Validation Curve With Random Forest\")\n",
    "plt.xlabel(\"Max Est\")\n",
    "plt.ylabel(\"Accuracy Score\")\n",
    "plt.tight_layout()\n",
    "plt.legend(loc=\"best\")\n",
    "plt.show()"
   ]
  },
  {
   "cell_type": "markdown",
   "metadata": {},
   "source": [
    "#### <font color=#800020>For n_estimate, we tried running the random forest classifier with n_estimator from 600 to 1000 with increment of 50 and we realised although the peak is at 800, 750 gave us the best results. We are extremely glad the optimal n value was 750 as it did not take too much processing power to run through 750 trees. On the side note, one of our team mates tried running 5000 trees. It took 50 minutes but the overall accuracy and feature importance deteriorated :(. </font>"
   ]
  },
  {
   "cell_type": "code",
   "execution_count": 30,
   "metadata": {},
   "outputs": [
    {
     "name": "stderr",
     "output_type": "stream",
     "text": [
      "C:\\Users\\Irvin\\Anaconda3\\lib\\site-packages\\sklearn\\ensemble\\forest.py:245: FutureWarning: The default value of n_estimators will change from 10 in version 0.20 to 100 in 0.22.\n",
      "  \"10 in version 0.20 to 100 in 0.22.\", FutureWarning)\n",
      "C:\\Users\\Irvin\\Anaconda3\\lib\\site-packages\\sklearn\\ensemble\\forest.py:245: FutureWarning: The default value of n_estimators will change from 10 in version 0.20 to 100 in 0.22.\n",
      "  \"10 in version 0.20 to 100 in 0.22.\", FutureWarning)\n",
      "C:\\Users\\Irvin\\Anaconda3\\lib\\site-packages\\sklearn\\ensemble\\forest.py:245: FutureWarning: The default value of n_estimators will change from 10 in version 0.20 to 100 in 0.22.\n",
      "  \"10 in version 0.20 to 100 in 0.22.\", FutureWarning)\n",
      "C:\\Users\\Irvin\\Anaconda3\\lib\\site-packages\\sklearn\\ensemble\\forest.py:245: FutureWarning: The default value of n_estimators will change from 10 in version 0.20 to 100 in 0.22.\n",
      "  \"10 in version 0.20 to 100 in 0.22.\", FutureWarning)\n",
      "C:\\Users\\Irvin\\Anaconda3\\lib\\site-packages\\sklearn\\ensemble\\forest.py:245: FutureWarning: The default value of n_estimators will change from 10 in version 0.20 to 100 in 0.22.\n",
      "  \"10 in version 0.20 to 100 in 0.22.\", FutureWarning)\n",
      "C:\\Users\\Irvin\\Anaconda3\\lib\\site-packages\\sklearn\\ensemble\\forest.py:245: FutureWarning: The default value of n_estimators will change from 10 in version 0.20 to 100 in 0.22.\n",
      "  \"10 in version 0.20 to 100 in 0.22.\", FutureWarning)\n",
      "C:\\Users\\Irvin\\Anaconda3\\lib\\site-packages\\sklearn\\ensemble\\forest.py:245: FutureWarning: The default value of n_estimators will change from 10 in version 0.20 to 100 in 0.22.\n",
      "  \"10 in version 0.20 to 100 in 0.22.\", FutureWarning)\n",
      "C:\\Users\\Irvin\\Anaconda3\\lib\\site-packages\\sklearn\\ensemble\\forest.py:245: FutureWarning: The default value of n_estimators will change from 10 in version 0.20 to 100 in 0.22.\n",
      "  \"10 in version 0.20 to 100 in 0.22.\", FutureWarning)\n",
      "C:\\Users\\Irvin\\Anaconda3\\lib\\site-packages\\sklearn\\ensemble\\forest.py:245: FutureWarning: The default value of n_estimators will change from 10 in version 0.20 to 100 in 0.22.\n",
      "  \"10 in version 0.20 to 100 in 0.22.\", FutureWarning)\n",
      "C:\\Users\\Irvin\\Anaconda3\\lib\\site-packages\\sklearn\\ensemble\\forest.py:245: FutureWarning: The default value of n_estimators will change from 10 in version 0.20 to 100 in 0.22.\n",
      "  \"10 in version 0.20 to 100 in 0.22.\", FutureWarning)\n",
      "C:\\Users\\Irvin\\Anaconda3\\lib\\site-packages\\sklearn\\ensemble\\forest.py:245: FutureWarning: The default value of n_estimators will change from 10 in version 0.20 to 100 in 0.22.\n",
      "  \"10 in version 0.20 to 100 in 0.22.\", FutureWarning)\n",
      "C:\\Users\\Irvin\\Anaconda3\\lib\\site-packages\\sklearn\\ensemble\\forest.py:245: FutureWarning: The default value of n_estimators will change from 10 in version 0.20 to 100 in 0.22.\n",
      "  \"10 in version 0.20 to 100 in 0.22.\", FutureWarning)\n"
     ]
    }
   ],
   "source": [
    "num_maxfeatures = [5, 10, 15, 20] \n",
    "train_scoreNum, test_scoreNum = validation_curve(\n",
    "                                RandomForestClassifier(),\n",
    "                                X = train_featuresC, y = train_labelsC, \n",
    "                                param_name = 'max_features', \n",
    "                                param_range = num_maxfeatures, cv = 3)"
   ]
  },
  {
   "cell_type": "code",
   "execution_count": 31,
   "metadata": {
    "scrolled": false
   },
   "outputs": [
    {
     "data": {
      "image/png": "[encoded data removed]",
      "text/plain": [
       "<Figure size 432x288 with 1 Axes>"
      ]
     },
     "metadata": {},
     "output_type": "display_data"
    }
   ],
   "source": [
    "# Calculate mean and standard deviation for training set scores\n",
    "train_mean = np.mean(train_scoreNum, axis=1)\n",
    "train_std = np.std(train_scoreNum, axis=1)\n",
    "\n",
    "# Calculate mean and standard deviation for test set scores\n",
    "test_mean = np.mean(test_scoreNum, axis=1)\n",
    "test_std = np.std(test_scoreNum, axis=1)\n",
    "\n",
    "# Plot mean accuracy scores for training and test sets\n",
    "#plt.plot(num_maxfeatures, train_mean, label=\"Training score\", color=\"black\")\n",
    "plt.plot(num_maxfeatures, test_mean, label=\"Cross-validation score\", color=\"dimgrey\")\n",
    "\n",
    "# Plot accurancy bands for training and test sets\n",
    "#plt.fill_between(num_maxfeatures, train_mean - train_std, train_mean + train_std, color=\"gray\")\n",
    "plt.fill_between(num_maxfeatures, test_mean - test_std, test_mean + test_std, color=\"gainsboro\")\n",
    "\n",
    "# Create plot\n",
    "plt.title(\"Validation Curve With Random Forest\")\n",
    "plt.xlabel(\"Max Number of Features\")\n",
    "plt.ylabel(\"Accuracy Score\")\n",
    "plt.tight_layout()\n",
    "plt.legend(loc=\"best\")\n",
    "plt.show()"
   ]
  },
  {
   "cell_type": "markdown",
   "metadata": {},
   "source": [
    "#### <font color=#800020>For max feature, we chose 10 as it performs the best and it is a good balance better performance and speed</font>"
   ]
  },
  {
   "cell_type": "code",
   "execution_count": 18,
   "metadata": {},
   "outputs": [],
   "source": [
    "num_minsamplesleaf = [2, 4, 6, 8, 10] \n",
    "train_scoreNum, test_scoreNum = validation_curve(\n",
    "                                RandomForestClassifier(),\n",
    "                                X = train_featuresC, y = train_labelsC, \n",
    "                                param_name = 'min_samples_leaf', \n",
    "                                param_range = num_minsamplesleaf, cv = 3)"
   ]
  },
  {
   "cell_type": "code",
   "execution_count": 19,
   "metadata": {
    "scrolled": false
   },
   "outputs": [
    {
     "data": {
      "image/png": "[encoded data removed]",
      "text/plain": [
       "<Figure size 842.4x595.44 with 1 Axes>"
      ]
     },
     "metadata": {},
     "output_type": "display_data"
    }
   ],
   "source": [
    "# Calculate mean and standard deviation for training set scores\n",
    "train_mean = np.mean(train_scoreNum, axis=1)\n",
    "train_std = np.std(train_scoreNum, axis=1)\n",
    "\n",
    "# Calculate mean and standard deviation for test set scores\n",
    "test_mean = np.mean(test_scoreNum, axis=1)\n",
    "test_std = np.std(test_scoreNum, axis=1)\n",
    "\n",
    "# Plot mean accuracy scores for training and test sets\n",
    "#plt.plot(num_maxfeatures, train_mean, label=\"Training score\", color=\"black\")\n",
    "plt.plot(num_minsamplesleaf, test_mean, label=\"Cross-validation score\", color=\"dimgrey\")\n",
    "\n",
    "# Plot accurancy bands for training and test sets\n",
    "#plt.fill_between(num_maxfeatures, train_mean - train_std, train_mean + train_std, color=\"gray\")\n",
    "plt.fill_between(num_minsamplesleaf, test_mean - test_std, test_mean + test_std, color=\"gainsboro\")\n",
    "\n",
    "# Create plot\n",
    "plt.title(\"Validation Curve With Random Forest\")\n",
    "plt.xlabel(\"Min Samples leaf\")\n",
    "plt.ylabel(\"Accuracy Score\")\n",
    "plt.tight_layout()\n",
    "plt.legend(loc=\"best\")\n",
    "plt.show()"
   ]
  },
  {
   "cell_type": "markdown",
   "metadata": {},
   "source": [
    "#### <font color=#800020>We picked the optimum min sample leaf as 4 in this case as a larger leaf size could case overfitting and a minimum of 4 leaf gives us the best performance.</font>"
   ]
  },
  {
   "cell_type": "code",
   "execution_count": 34,
   "metadata": {},
   "outputs": [
    {
     "data": {
      "text/plain": [
       "0.6495780926604044"
      ]
     },
     "execution_count": 34,
     "metadata": {},
     "output_type": "execute_result"
    }
   ],
   "source": [
    "# Fitting the classifier to the Training set\n",
    "model = RandomForestClassifier(n_estimators=750, random_state = 50,max_features = 10, max_depth = 17,min_samples_split = 10,min_samples_leaf = 4)\n",
    "model.fit(train_featuresC, train_labelsC)\n",
    "model.score(test_featuresC, test_labelsC)"
   ]
  },
  {
   "cell_type": "markdown",
   "metadata": {},
   "source": [
    "#### <font color=#800020>Compared the the previous score of 0.612, there is a 3.8 percent increased in accuracy score</font>"
   ]
  },
  {
   "cell_type": "code",
   "execution_count": 35,
   "metadata": {},
   "outputs": [
    {
     "data": {
      "text/html": [
       "<div>\n",
       "<style scoped>\n",
       "    .dataframe tbody tr th:only-of-type {\n",
       "        vertical-align: middle;\n",
       "    }\n",
       "\n",
       "    .dataframe tbody tr th {\n",
       "        vertical-align: top;\n",
       "    }\n",
       "\n",
       "    .dataframe thead th {\n",
       "        text-align: right;\n",
       "    }\n",
       "</style>\n",
       "<table border=\"1\" class=\"dataframe\">\n",
       "  <thead>\n",
       "    <tr style=\"text-align: right;\">\n",
       "      <th></th>\n",
       "      <th>importance</th>\n",
       "    </tr>\n",
       "  </thead>\n",
       "  <tbody>\n",
       "    <tr>\n",
       "      <th>Broad.Phase.of.Flight_LANDING</th>\n",
       "      <td>0.252536</td>\n",
       "    </tr>\n",
       "    <tr>\n",
       "      <th>Broad.Phase.of.Flight_MANEUVERING</th>\n",
       "      <td>0.068755</td>\n",
       "    </tr>\n",
       "    <tr>\n",
       "      <th>Weather.Condition_IMC</th>\n",
       "      <td>0.045828</td>\n",
       "    </tr>\n",
       "    <tr>\n",
       "      <th>Broad.Phase.of.Flight_TAXI</th>\n",
       "      <td>0.044587</td>\n",
       "    </tr>\n",
       "    <tr>\n",
       "      <th>Weather.Condition_VMC</th>\n",
       "      <td>0.043854</td>\n",
       "    </tr>\n",
       "    <tr>\n",
       "      <th>Broad.Phase.of.Flight_APPROACH</th>\n",
       "      <td>0.026910</td>\n",
       "    </tr>\n",
       "    <tr>\n",
       "      <th>Broad.Phase.of.Flight_TAKEOFF</th>\n",
       "      <td>0.023151</td>\n",
       "    </tr>\n",
       "    <tr>\n",
       "      <th>Amateur.Built_Yes</th>\n",
       "      <td>0.022040</td>\n",
       "    </tr>\n",
       "  </tbody>\n",
       "</table>\n",
       "</div>"
      ],
      "text/plain": [
       "                                   importance\n",
       "Broad.Phase.of.Flight_LANDING        0.252536\n",
       "Broad.Phase.of.Flight_MANEUVERING    0.068755\n",
       "Weather.Condition_IMC                0.045828\n",
       "Broad.Phase.of.Flight_TAXI           0.044587\n",
       "Weather.Condition_VMC                0.043854\n",
       "Broad.Phase.of.Flight_APPROACH       0.026910\n",
       "Broad.Phase.of.Flight_TAKEOFF        0.023151\n",
       "Amateur.Built_Yes                    0.022040"
      ]
     },
     "execution_count": 35,
     "metadata": {},
     "output_type": "execute_result"
    }
   ],
   "source": [
    "#Retrieving the important determining features from the random forest\n",
    "feature_importances = pd.DataFrame(model.feature_importances_,\n",
    "                                   index = featuresdf.columns ,\n",
    "                                    columns=['importance']).sort_values('importance', ascending=True)\n",
    "feature_importances.nlargest(8,\"importance\")"
   ]
  },
  {
   "cell_type": "markdown",
   "metadata": {},
   "source": [
    "#### <font color=#800020>There is a huge change in feature importance and \"months\" completely disappeared from the list</font>"
   ]
  },
  {
   "cell_type": "code",
   "execution_count": 36,
   "metadata": {},
   "outputs": [],
   "source": [
    "# Predicting the test set result\n",
    "y_pred = model.predict(test_featuresC)"
   ]
  },
  {
   "cell_type": "code",
   "execution_count": 37,
   "metadata": {},
   "outputs": [
    {
     "data": {
      "text/plain": [
       "(3, 0)"
      ]
     },
     "execution_count": 37,
     "metadata": {},
     "output_type": "execute_result"
    },
    {
     "data": {
      "image/png": "[encoded data removed]",
      "text/plain": [
       "<Figure size 432x288 with 2 Axes>"
      ]
     },
     "metadata": {},
     "output_type": "display_data"
    }
   ],
   "source": [
    "# Making the confusion matrix\n",
    "cm = confusion_matrix(test_labelsC, y_pred)\n",
    "\n",
    "sb.set(font_scale=1.4) # for label size\n",
    "ax = sb.heatmap(cm, annot=True, fmt='g',annot_kws={\"size\": 16}, xticklabels = [1,2,3], yticklabels = [1,2,3]) # font size\n",
    "ax.set_ylim(len(cm), 0)\n",
    "#ax.figure.savefig('Forest_CM.png', dpi=300,transparent=True)"
   ]
  },
  {
   "cell_type": "code",
   "execution_count": 38,
   "metadata": {},
   "outputs": [
    {
     "name": "stdout",
     "output_type": "stream",
     "text": [
      "=== Confusion Matrix ===\n",
      "[[3047  497   17]\n",
      " [1194  952   58]\n",
      " [ 193  242   81]]\n",
      "\n",
      "\n",
      "=== Classification Report ===\n",
      "              precision    recall  f1-score   support\n",
      "\n",
      "           1       0.69      0.86      0.76      3561\n",
      "           2       0.56      0.43      0.49      2204\n",
      "           3       0.52      0.16      0.24       516\n",
      "\n",
      "    accuracy                           0.65      6281\n",
      "   macro avg       0.59      0.48      0.50      6281\n",
      "weighted avg       0.63      0.65      0.62      6281\n",
      "\n",
      "\n",
      "\n"
     ]
    }
   ],
   "source": [
    "print(\"=== Confusion Matrix ===\")\n",
    "print(confusion_matrix(test_labelsC, y_pred))\n",
    "print('\\n')\n",
    "print(\"=== Classification Report ===\")\n",
    "print(classification_report(test_labelsC, y_pred))\n",
    "print('\\n')"
   ]
  },
  {
   "cell_type": "markdown",
   "metadata": {},
   "source": [
    "#### <font color=#800020>The is an improvement in the classification for class 1 and 2 when comparing precision, recall and F1-score. But class 3 shows a drop which could be due to the spread of the data.</font>"
   ]
  },
  {
   "cell_type": "code",
   "execution_count": 39,
   "metadata": {},
   "outputs": [],
   "source": [
    "feature_importances.to_csv('importance.csv')"
   ]
  },
  {
   "cell_type": "markdown",
   "metadata": {},
   "source": [
    "# Phase 4 - Using different algorithms as a bench"
   ]
  },
  {
   "cell_type": "markdown",
   "metadata": {},
   "source": [
    "### TensorFlow Neural Network"
   ]
  },
  {
   "cell_type": "code",
   "execution_count": 40,
   "metadata": {},
   "outputs": [],
   "source": [
    "# Labels are the values we want to predict\n",
    "labelsC = np.array(AllPredictors[['Severity_Class_1', 'Severity_Class_2', 'Severity_Class_3']])\n",
    "\n",
    "# Remove the labels from the features\n",
    "# axis 1 refers to the columns\n",
    "featuresC = AllPredictors.drop(['Severity.Score','Severity_Class_1', 'Severity_Class_2', 'Severity_Class_3', 'Severity_Class'], axis = 1)\n",
    "\n",
    "featuresdf = featuresC\n",
    "# Saving feature names for later use\n",
    "feature_list = list(featuresC.columns)\n",
    "\n",
    "# Convert to numpy array\n",
    "featuresC = np.array(featuresC)\n",
    "\n",
    "# Using Skicit-learn to split data into training and testing sets\n",
    "from sklearn.model_selection import train_test_split\n",
    "# Split the data into training and testing sets\n",
    "train_featuresC, test_featuresC, train_labelsC, test_labelsC = train_test_split(featuresC, labelsC, test_size = 0.20, random_state = 50)"
   ]
  },
  {
   "cell_type": "code",
   "execution_count": 41,
   "metadata": {},
   "outputs": [],
   "source": [
    "#scaling data\n",
    "from sklearn.preprocessing import StandardScaler\n",
    "sc = StandardScaler()\n",
    "train_featuresNN = sc.fit_transform(train_featuresC)\n",
    "test_featuresNN = sc.transform(test_featuresC)"
   ]
  },
  {
   "cell_type": "code",
   "execution_count": 42,
   "metadata": {},
   "outputs": [
    {
     "name": "stderr",
     "output_type": "stream",
     "text": [
      "C:\\Users\\Irvin\\Anaconda3\\lib\\site-packages\\ipykernel_launcher.py:5: UserWarning: Update your `Dense` call to the Keras 2 API: `Dense(128, activation=\"relu\", input_dim=124, kernel_initializer=\"uniform\")`\n",
      "  \"\"\"\n",
      "C:\\Users\\Irvin\\Anaconda3\\lib\\site-packages\\ipykernel_launcher.py:9: UserWarning: Update your `Dense` call to the Keras 2 API: `Dense(128, activation=\"relu\", kernel_initializer=\"uniform\")`\n",
      "  if __name__ == '__main__':\n",
      "C:\\Users\\Irvin\\Anaconda3\\lib\\site-packages\\ipykernel_launcher.py:13: UserWarning: Update your `Dense` call to the Keras 2 API: `Dense(128, activation=\"relu\", kernel_initializer=\"uniform\")`\n",
      "  del sys.path[0]\n",
      "C:\\Users\\Irvin\\Anaconda3\\lib\\site-packages\\ipykernel_launcher.py:17: UserWarning: Update your `Dense` call to the Keras 2 API: `Dense(activation=\"sigmoid\", units=3, kernel_initializer=\"uniform\")`\n"
     ]
    },
    {
     "name": "stdout",
     "output_type": "stream",
     "text": [
      "Epoch 1/100\n",
      "25122/25122 [==============================] - 2s 68us/step - loss: 0.5199 - accuracy: 0.7180\n",
      "Epoch 2/100\n",
      "25122/25122 [==============================] - 1s 33us/step - loss: 0.4628 - accuracy: 0.7570\n",
      "Epoch 3/100\n",
      "25122/25122 [==============================] - 1s 33us/step - loss: 0.4535 - accuracy: 0.7650\n",
      "Epoch 4/100\n",
      "25122/25122 [==============================] - 1s 31us/step - loss: 0.4485 - accuracy: 0.7690\n",
      "Epoch 5/100\n",
      "25122/25122 [==============================] - 1s 31us/step - loss: 0.4455 - accuracy: 0.7705\n",
      "Epoch 6/100\n",
      "25122/25122 [==============================] - 1s 32us/step - loss: 0.4423 - accuracy: 0.7742\n",
      "Epoch 7/100\n",
      "25122/25122 [==============================] - 1s 32us/step - loss: 0.4384 - accuracy: 0.7773\n",
      "Epoch 8/100\n",
      "25122/25122 [==============================] - 1s 38us/step - loss: 0.4348 - accuracy: 0.7782\n",
      "Epoch 9/100\n",
      "25122/25122 [==============================] - 1s 38us/step - loss: 0.4316 - accuracy: 0.7820\n",
      "Epoch 10/100\n",
      "25122/25122 [==============================] - 1s 31us/step - loss: 0.4283 - accuracy: 0.7839\n",
      "Epoch 11/100\n",
      "25122/25122 [==============================] - 1s 30us/step - loss: 0.4235 - accuracy: 0.7885\n",
      "Epoch 12/100\n",
      "25122/25122 [==============================] - 1s 30us/step - loss: 0.4198 - accuracy: 0.7914\n",
      "Epoch 13/100\n",
      "25122/25122 [==============================] - 1s 31us/step - loss: 0.4155 - accuracy: 0.7937\n",
      "Epoch 14/100\n",
      "25122/25122 [==============================] - 1s 32us/step - loss: 0.4099 - accuracy: 0.7983\n",
      "Epoch 15/100\n",
      "25122/25122 [==============================] - 1s 33us/step - loss: 0.4060 - accuracy: 0.8010\n",
      "Epoch 16/100\n",
      "25122/25122 [==============================] - 1s 32us/step - loss: 0.4011 - accuracy: 0.8045\n",
      "Epoch 17/100\n",
      "25122/25122 [==============================] - 1s 31us/step - loss: 0.3958 - accuracy: 0.8076\n",
      "Epoch 18/100\n",
      "25122/25122 [==============================] - ETA: 0s - loss: 0.3898 - accuracy: 0.81 - 1s 32us/step - loss: 0.3900 - accuracy: 0.8136\n",
      "Epoch 19/100\n",
      "25122/25122 [==============================] - 1s 33us/step - loss: 0.3855 - accuracy: 0.8157\n",
      "Epoch 20/100\n",
      "25122/25122 [==============================] - 1s 32us/step - loss: 0.3804 - accuracy: 0.8187\n",
      "Epoch 21/100\n",
      "25122/25122 [==============================] - 1s 32us/step - loss: 0.3741 - accuracy: 0.8223\n",
      "Epoch 22/100\n",
      "25122/25122 [==============================] - 1s 32us/step - loss: 0.3684 - accuracy: 0.8263\n",
      "Epoch 23/100\n",
      "25122/25122 [==============================] - 1s 32us/step - loss: 0.3640 - accuracy: 0.8289\n",
      "Epoch 24/100\n",
      "25122/25122 [==============================] - 1s 32us/step - loss: 0.3569 - accuracy: 0.8328\n",
      "Epoch 25/100\n",
      "25122/25122 [==============================] - 1s 32us/step - loss: 0.3518 - accuracy: 0.8360\n",
      "Epoch 26/100\n",
      "25122/25122 [==============================] - 1s 33us/step - loss: 0.3454 - accuracy: 0.8401\n",
      "Epoch 27/100\n",
      "25122/25122 [==============================] - 1s 32us/step - loss: 0.3412 - accuracy: 0.8416\n",
      "Epoch 28/100\n",
      "25122/25122 [==============================] - 1s 33us/step - loss: 0.3370 - accuracy: 0.8450\n",
      "Epoch 29/100\n",
      "25122/25122 [==============================] - 1s 35us/step - loss: 0.3289 - accuracy: 0.8485\n",
      "Epoch 30/100\n",
      "25122/25122 [==============================] - 1s 32us/step - loss: 0.3243 - accuracy: 0.8529\n",
      "Epoch 31/100\n",
      "25122/25122 [==============================] - 1s 32us/step - loss: 0.3197 - accuracy: 0.8549\n",
      "Epoch 32/100\n",
      "25122/25122 [==============================] - 1s 31us/step - loss: 0.3148 - accuracy: 0.8562\n",
      "Epoch 33/100\n",
      "25122/25122 [==============================] - 1s 32us/step - loss: 0.3115 - accuracy: 0.8579\n",
      "Epoch 34/100\n",
      "25122/25122 [==============================] - 1s 32us/step - loss: 0.3041 - accuracy: 0.8619\n",
      "Epoch 35/100\n",
      "25122/25122 [==============================] - 1s 32us/step - loss: 0.2989 - accuracy: 0.8649\n",
      "Epoch 36/100\n",
      "25122/25122 [==============================] - 1s 32us/step - loss: 0.2962 - accuracy: 0.8667\n",
      "Epoch 37/100\n",
      "25122/25122 [==============================] - 1s 31us/step - loss: 0.2912 - accuracy: 0.8686\n",
      "Epoch 38/100\n",
      "25122/25122 [==============================] - 1s 32us/step - loss: 0.2879 - accuracy: 0.8708\n",
      "Epoch 39/100\n",
      "25122/25122 [==============================] - 1s 33us/step - loss: 0.2838 - accuracy: 0.8727\n",
      "Epoch 40/100\n",
      "25122/25122 [==============================] - 1s 35us/step - loss: 0.2770 - accuracy: 0.8763\n",
      "Epoch 41/100\n",
      "25122/25122 [==============================] - 1s 33us/step - loss: 0.2745 - accuracy: 0.8767\n",
      "Epoch 42/100\n",
      "25122/25122 [==============================] - 1s 36us/step - loss: 0.2721 - accuracy: 0.8794\n",
      "Epoch 43/100\n",
      "25122/25122 [==============================] - 1s 32us/step - loss: 0.2692 - accuracy: 0.8796\n",
      "Epoch 44/100\n",
      "25122/25122 [==============================] - 1s 31us/step - loss: 0.2644 - accuracy: 0.8830\n",
      "Epoch 45/100\n",
      "25122/25122 [==============================] - 1s 32us/step - loss: 0.2612 - accuracy: 0.8836\n",
      "Epoch 46/100\n",
      "25122/25122 [==============================] - 1s 30us/step - loss: 0.2570 - accuracy: 0.8847 0s - loss:\n",
      "Epoch 47/100\n",
      "25122/25122 [==============================] - 1s 31us/step - loss: 0.2552 - accuracy: 0.8866\n",
      "Epoch 48/100\n",
      "25122/25122 [==============================] - 1s 33us/step - loss: 0.2500 - accuracy: 0.8886\n",
      "Epoch 49/100\n",
      "25122/25122 [==============================] - 1s 33us/step - loss: 0.2470 - accuracy: 0.8910\n",
      "Epoch 50/100\n",
      "25122/25122 [==============================] - 1s 36us/step - loss: 0.2460 - accuracy: 0.8910\n",
      "Epoch 51/100\n",
      "25122/25122 [==============================] - 1s 32us/step - loss: 0.2427 - accuracy: 0.8924\n",
      "Epoch 52/100\n",
      "25122/25122 [==============================] - 1s 33us/step - loss: 0.2399 - accuracy: 0.8922\n",
      "Epoch 53/100\n",
      "25122/25122 [==============================] - 1s 33us/step - loss: 0.2369 - accuracy: 0.8940\n",
      "Epoch 54/100\n",
      "25122/25122 [==============================] - 1s 36us/step - loss: 0.2333 - accuracy: 0.8962\n",
      "Epoch 55/100\n",
      "25122/25122 [==============================] - 1s 33us/step - loss: 0.2325 - accuracy: 0.8958\n",
      "Epoch 56/100\n",
      "25122/25122 [==============================] - 1s 33us/step - loss: 0.2283 - accuracy: 0.8989\n",
      "Epoch 57/100\n",
      "25122/25122 [==============================] - 1s 34us/step - loss: 0.2251 - accuracy: 0.8996\n",
      "Epoch 58/100\n",
      "25122/25122 [==============================] - 1s 33us/step - loss: 0.2237 - accuracy: 0.9008\n",
      "Epoch 59/100\n",
      "25122/25122 [==============================] - 1s 34us/step - loss: 0.2236 - accuracy: 0.8999\n",
      "Epoch 60/100\n",
      "25122/25122 [==============================] - 1s 35us/step - loss: 0.2185 - accuracy: 0.9021\n",
      "Epoch 61/100\n",
      "25122/25122 [==============================] - 1s 44us/step - loss: 0.2134 - accuracy: 0.9060\n",
      "Epoch 62/100\n",
      "25122/25122 [==============================] - 1s 38us/step - loss: 0.2125 - accuracy: 0.9057\n",
      "Epoch 63/100\n",
      "25122/25122 [==============================] - 1s 44us/step - loss: 0.2119 - accuracy: 0.9045\n",
      "Epoch 64/100\n",
      "25122/25122 [==============================] - 1s 35us/step - loss: 0.2118 - accuracy: 0.9060\n",
      "Epoch 65/100\n",
      "25122/25122 [==============================] - 1s 37us/step - loss: 0.2066 - accuracy: 0.9064\n",
      "Epoch 66/100\n",
      "25122/25122 [==============================] - 1s 38us/step - loss: 0.2060 - accuracy: 0.9081\n",
      "Epoch 67/100\n",
      "25122/25122 [==============================] - 1s 36us/step - loss: 0.2025 - accuracy: 0.9094\n",
      "Epoch 68/100\n",
      "25122/25122 [==============================] - 1s 37us/step - loss: 0.2051 - accuracy: 0.9088\n",
      "Epoch 69/100\n",
      "25122/25122 [==============================] - 1s 36us/step - loss: 0.2043 - accuracy: 0.9089\n",
      "Epoch 70/100\n",
      "25122/25122 [==============================] - 1s 35us/step - loss: 0.1982 - accuracy: 0.9111\n",
      "Epoch 71/100\n",
      "25122/25122 [==============================] - 1s 38us/step - loss: 0.1974 - accuracy: 0.9107\n",
      "Epoch 72/100\n",
      "25122/25122 [==============================] - 1s 38us/step - loss: 0.1965 - accuracy: 0.9126\n",
      "Epoch 73/100\n",
      "25122/25122 [==============================] - 1s 41us/step - loss: 0.1930 - accuracy: 0.9132\n",
      "Epoch 74/100\n",
      "25122/25122 [==============================] - 1s 39us/step - loss: 0.1928 - accuracy: 0.9128\n",
      "Epoch 75/100\n",
      "25122/25122 [==============================] - 1s 39us/step - loss: 0.1926 - accuracy: 0.9133\n",
      "Epoch 76/100\n",
      "25122/25122 [==============================] - 1s 36us/step - loss: 0.1914 - accuracy: 0.9130\n",
      "Epoch 77/100\n",
      "25122/25122 [==============================] - 1s 34us/step - loss: 0.1912 - accuracy: 0.9140\n",
      "Epoch 78/100\n",
      "25122/25122 [==============================] - 1s 35us/step - loss: 0.1865 - accuracy: 0.9161\n",
      "Epoch 79/100\n",
      "25122/25122 [==============================] - 1s 36us/step - loss: 0.1835 - accuracy: 0.9170\n",
      "Epoch 80/100\n",
      "25122/25122 [==============================] - 1s 34us/step - loss: 0.1859 - accuracy: 0.9150\n",
      "Epoch 81/100\n",
      "25122/25122 [==============================] - 1s 33us/step - loss: 0.1829 - accuracy: 0.9159\n",
      "Epoch 82/100\n",
      "25122/25122 [==============================] - 1s 35us/step - loss: 0.1816 - accuracy: 0.9176\n",
      "Epoch 83/100\n",
      "25122/25122 [==============================] - 1s 36us/step - loss: 0.1792 - accuracy: 0.9184\n",
      "Epoch 84/100\n",
      "25122/25122 [==============================] - 1s 35us/step - loss: 0.1783 - accuracy: 0.9193\n",
      "Epoch 85/100\n",
      "25122/25122 [==============================] - 1s 35us/step - loss: 0.1817 - accuracy: 0.9178\n",
      "Epoch 86/100\n",
      "25122/25122 [==============================] - 1s 35us/step - loss: 0.1774 - accuracy: 0.9186\n",
      "Epoch 87/100\n",
      "25122/25122 [==============================] - 1s 35us/step - loss: 0.1797 - accuracy: 0.9179\n",
      "Epoch 88/100\n",
      "25122/25122 [==============================] - 1s 32us/step - loss: 0.1743 - accuracy: 0.9206\n",
      "Epoch 89/100\n",
      "25122/25122 [==============================] - 1s 40us/step - loss: 0.1757 - accuracy: 0.9186\n",
      "Epoch 90/100\n",
      "25122/25122 [==============================] - 1s 38us/step - loss: 0.1746 - accuracy: 0.9205\n",
      "Epoch 91/100\n",
      "25122/25122 [==============================] - 1s 36us/step - loss: 0.1743 - accuracy: 0.9207\n",
      "Epoch 92/100\n",
      "25122/25122 [==============================] - 1s 32us/step - loss: 0.1745 - accuracy: 0.9208\n",
      "Epoch 93/100\n",
      "25122/25122 [==============================] - 1s 34us/step - loss: 0.1702 - accuracy: 0.9218\n",
      "Epoch 94/100\n",
      "25122/25122 [==============================] - 1s 32us/step - loss: 0.1701 - accuracy: 0.9219\n",
      "Epoch 95/100\n",
      "25122/25122 [==============================] - 1s 31us/step - loss: 0.1746 - accuracy: 0.9205\n",
      "Epoch 96/100\n",
      "25122/25122 [==============================] - 1s 32us/step - loss: 0.1736 - accuracy: 0.9207\n",
      "Epoch 97/100\n",
      "25122/25122 [==============================] - 1s 32us/step - loss: 0.1678 - accuracy: 0.9222\n",
      "Epoch 98/100\n",
      "25122/25122 [==============================] - 1s 32us/step - loss: 0.1647 - accuracy: 0.9242 0s - loss:\n",
      "Epoch 99/100\n",
      "25122/25122 [==============================] - 1s 32us/step - loss: 0.1651 - accuracy: 0.9232\n",
      "Epoch 100/100\n",
      "25122/25122 [==============================] - 1s 33us/step - loss: 0.1652 - accuracy: 0.9230 0s - loss:\n"
     ]
    }
   ],
   "source": [
    "#Initializing Neural Network\n",
    "ann_model = Sequential()\n",
    "\n",
    "# Adding the input layer and the first hidden layer\n",
    "ann_model.add(Dense(128, init = 'uniform', activation = 'relu', input_dim = 124))\n",
    "ann_model.add(Dropout(0))\n",
    "\n",
    "# Adding the second hidden layer\n",
    "ann_model.add(Dense(128, init = 'uniform', activation = 'relu'))\n",
    "ann_model.add(Dropout(0))\n",
    "\n",
    "# Adding the third hidden layer\n",
    "ann_model.add(Dense(128, init = 'uniform', activation = 'relu'))\n",
    "ann_model.add(Dropout(0))\n",
    "\n",
    "# Adding the output layer\n",
    "ann_model.add(Dense(output_dim = 3, init = 'uniform', activation = 'sigmoid'))\n",
    "\n",
    "# Compiling Neural Network\n",
    "ann_model.compile(optimizer = 'adam', loss = 'binary_crossentropy', metrics = ['accuracy'])\n",
    "\n",
    "# Fitting our model \n",
    "ann_model.fit(train_featuresC, train_labelsC, batch_size = 150, epochs = 100)\n",
    "\n",
    "y_pred = ann_model.predict(test_featuresC)"
   ]
  },
  {
   "cell_type": "code",
   "execution_count": 43,
   "metadata": {
    "scrolled": false
   },
   "outputs": [
    {
     "name": "stdout",
     "output_type": "stream",
     "text": [
      "6281/6281 [==============================] - 0s 78us/step\n",
      "\n",
      "Loss: 74.70, Accuracy: 71.13%\n"
     ]
    }
   ],
   "source": [
    "y_pred = (y_pred > 0.5)\n",
    "loss, accuracy = ann_model.evaluate(test_featuresNN, test_labelsC)\n",
    "print(\"\\nLoss: %.2f, Accuracy: %.2f%%\" % (loss, accuracy*100))"
   ]
  },
  {
   "cell_type": "markdown",
   "metadata": {},
   "source": [
    "#### <font color=#800020>TensorFlow by Keras module is able to learn the train set to over 92% accuracy and predict the test set to over 70% accuracy. This is by far the best accuracy we get from all algorithms we have tried. We got this by setting 3 layers and ADAM optimizer on the model. This algorithm reflects on some abstract errors on the dataset. That being said, two aircrafts with the same specifications, landing in a similar weather condition, may result on two different scenarios. These external factors cannot be determined given the limited data we have on our dataset. </font>"
   ]
  },
  {
   "cell_type": "markdown",
   "metadata": {},
   "source": [
    "### Naive Bayes Classifier"
   ]
  },
  {
   "cell_type": "code",
   "execution_count": 44,
   "metadata": {},
   "outputs": [],
   "source": [
    "# Labels are the values we want to predict\n",
    "labelsC = np.array(AllPredictors['Severity_Class'])\n",
    "\n",
    "# Remove the labels from the features\n",
    "# axis 1 refers to the columns\n",
    "featuresC = AllPredictors.drop(['Severity.Score','Severity_Class_1', 'Severity_Class_2', 'Severity_Class_3', 'Severity_Class'], axis = 1)\n",
    "\n",
    "featuresdf = featuresC\n",
    "# Saving feature names for later use\n",
    "feature_list = list(featuresC.columns)\n",
    "\n",
    "\n",
    "# Convert to numpy array\n",
    "featuresC = np.array(featuresC)\n",
    "\n",
    "# Split the data into training and testing sets\n",
    "train_featuresC, test_featuresC, train_labelsC, test_labelsC = train_test_split(featuresC, labelsC, test_size = 0.20, random_state = 50)"
   ]
  },
  {
   "cell_type": "code",
   "execution_count": 45,
   "metadata": {},
   "outputs": [],
   "source": [
    "#Create a Gaussian Classifier\n",
    "gnb = GaussianNB()\n",
    "\n",
    "#Train the model using the training sets\n",
    "gnb.fit(train_featuresC, train_labelsC)\n",
    "\n",
    "#Predict the response for test dataset\n",
    "y_pred = gnb.predict(test_featuresC)"
   ]
  },
  {
   "cell_type": "code",
   "execution_count": 46,
   "metadata": {},
   "outputs": [
    {
     "name": "stdout",
     "output_type": "stream",
     "text": [
      "Accuracy: 0.38783633179430027\n"
     ]
    }
   ],
   "source": [
    "# Model Accuracy, how often is the classifier correct?\n",
    "print(\"Accuracy:\",metrics.accuracy_score(test_labelsC, y_pred))"
   ]
  },
  {
   "cell_type": "code",
   "execution_count": 47,
   "metadata": {},
   "outputs": [
    {
     "name": "stdout",
     "output_type": "stream",
     "text": [
      "[[1848   60 1653]\n",
      " [ 620  119 1465]\n",
      " [  38    9  469]]\n"
     ]
    }
   ],
   "source": [
    "print(confusion_matrix(test_labelsC, y_pred))"
   ]
  },
  {
   "cell_type": "markdown",
   "metadata": {},
   "source": [
    "#### <font color=#800020>It seems that Naive Bayes may not be the best classifier for this case as it is normally used for continuous dataset. We attempted to use Multinomial Naive Bayes as well but we could not determine if it was a fitting algorithm to use as documentation pointed its usage towards text and word based classification. Perhaps it would be something that we can use if we are attempting the jokes dataset. Nevertheless, it was one of the algorithm we explored and something we learnt in the process.</font>"
   ]
  },
  {
   "cell_type": "markdown",
   "metadata": {},
   "source": [
    "### SKlearn Neural Network"
   ]
  },
  {
   "cell_type": "code",
   "execution_count": 55,
   "metadata": {},
   "outputs": [
    {
     "data": {
      "text/plain": [
       "0.6303136443241522"
      ]
     },
     "execution_count": 55,
     "metadata": {},
     "output_type": "execute_result"
    }
   ],
   "source": [
    "NN = MLPClassifier(solver='lbfgs', alpha=1e-5, hidden_layer_sizes=(5, 2), random_state=50, max_iter=1000)\n",
    "NN.fit(train_featuresC, train_labelsC)\n",
    "NN_pred = NN.predict(test_featuresC)\n",
    "NN.score(test_featuresC, test_labelsC)"
   ]
  },
  {
   "cell_type": "code",
   "execution_count": 56,
   "metadata": {},
   "outputs": [
    {
     "name": "stdout",
     "output_type": "stream",
     "text": [
      "[[2664  866   31]\n",
      " [ 937 1191   76]\n",
      " [  72  340  104]]\n"
     ]
    }
   ],
   "source": [
    "print(confusion_matrix(test_labelsC, NN_pred))"
   ]
  },
  {
   "cell_type": "markdown",
   "metadata": {},
   "source": [
    "#### <font color=#800020>The final results came down to 63.53% which is quite a good accuracy. In this iteration, we used the limited memory BFGS for faster processing as compared to ADAM. The accuracy score is quite good on the initial run but the Neural network is quite complicated and could take some time to tune. In the end we used this as one of the bench for accuracy but it was interesting trying to implement this.</font>"
   ]
  },
  {
   "cell_type": "markdown",
   "metadata": {},
   "source": [
    "### XgBoost Algorithm"
   ]
  },
  {
   "cell_type": "code",
   "execution_count": 50,
   "metadata": {},
   "outputs": [
    {
     "name": "stdout",
     "output_type": "stream",
     "text": [
      "Accuracy: 64.78%\n"
     ]
    }
   ],
   "source": [
    "from xgboost import XGBClassifier\n",
    "xgbc = XGBClassifier(random_state=50)\n",
    "xgbc.fit(train_featuresC, train_labelsC)\n",
    "# make predictions for test data\n",
    "y_pred = xgbc.predict(test_featuresC)\n",
    "predictions = [round(value) for value in y_pred]\n",
    "# evaluate predictions\n",
    "from sklearn.metrics import accuracy_score\n",
    "accuracy = accuracy_score(test_labelsC, predictions)\n",
    "print(\"Accuracy: %.2f%%\" % (accuracy * 100.0))"
   ]
  },
  {
   "cell_type": "markdown",
   "metadata": {},
   "source": [
    "#### <font color=#800020>XGBoost is actually an interesting algorith as it uses gradient boosting to improve the accuracy of decision trees but could be prone to overfitting. Athough the initial accuracy is actually very close to our tuned forest, we actually tried to tune in hopes it can exceed our forest but didn't get significant result.</font>"
   ]
  },
  {
   "cell_type": "markdown",
   "metadata": {},
   "source": [
    "### Support Vector Classifier"
   ]
  },
  {
   "cell_type": "code",
   "execution_count": 51,
   "metadata": {},
   "outputs": [
    {
     "data": {
      "text/plain": [
       "0.6268110173539245"
      ]
     },
     "execution_count": 51,
     "metadata": {},
     "output_type": "execute_result"
    }
   ],
   "source": [
    "SVM = svm.SVC(gamma = 'scale', C=10)\n",
    "SVM.fit(train_featuresC, train_labelsC)\n",
    "SVM.predict(test_featuresC)\n",
    "SVM.score(test_featuresC, test_labelsC)"
   ]
  },
  {
   "cell_type": "markdown",
   "metadata": {},
   "source": [
    "### Support Vector Classifier - Linear method"
   ]
  },
  {
   "cell_type": "code",
   "execution_count": 52,
   "metadata": {
    "scrolled": true
   },
   "outputs": [
    {
     "data": {
      "text/plain": [
       "0.642254418086292"
      ]
     },
     "execution_count": 52,
     "metadata": {},
     "output_type": "execute_result"
    }
   ],
   "source": [
    "SVM = svm.SVC(gamma = 'scale', C=10, kernel = 'linear')\n",
    "SVM.fit(train_featuresC, train_labelsC)\n",
    "SVM.predict(test_featuresC)\n",
    "SVM.score(test_featuresC, test_labelsC)"
   ]
  },
  {
   "cell_type": "markdown",
   "metadata": {},
   "source": [
    "#### <font color=#800020>For SVM, we ran both the default kernal RBF and Linear. The reason we ran linear was actually to try to retrieve the feature importance as the rbf kernel does not return feature importance. But due to the both algorithm having lower accuracy score than Random forest, we decided to focus more time on random forest instead.</font>"
   ]
  },
  {
   "cell_type": "markdown",
   "metadata": {},
   "source": [
    "#### <font color=#800020>In terms of accuracy, TensorFlow by Keras module performed the best. However, we used Random Forest as our main algorithm as Neural network is quite complicated and it would take sometime to perfect the algorithm and return accurate values. Thus, we decided to stick with random forest as our main algorithm. Although, if given more time, we would enjoy exploring more ways to make our data more accurate and get a better prediction</font>"
   ]
  },
  {
   "cell_type": "code",
   "execution_count": null,
   "metadata": {},
   "outputs": [],
   "source": []
  }
 ],
 "metadata": {
  "kernelspec": {
   "display_name": "Python 3",
   "language": "python",
   "name": "python3"
  },
  "language_info": {
   "codemirror_mode": {
    "name": "ipython",
    "version": 3
   },
   "file_extension": ".py",
   "mimetype": "text/x-python",
   "name": "python",
   "nbconvert_exporter": "python",
   "pygments_lexer": "ipython3",
   "version": "3.8.0"
  }
 },
 "nbformat": 4,
 "nbformat_minor": 2
}
